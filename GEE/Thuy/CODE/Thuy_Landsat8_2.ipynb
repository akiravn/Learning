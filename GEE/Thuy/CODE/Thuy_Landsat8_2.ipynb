{
 "cells": [
  {
   "cell_type": "code",
   "execution_count": 1,
   "metadata": {},
   "outputs": [],
   "source": [
    "import ee\n",
    "import geemap"
   ]
  },
  {
   "cell_type": "code",
   "execution_count": 2,
   "metadata": {},
   "outputs": [],
   "source": [
    "L8bands = ['B1','B2', 'B3', 'B4', 'B5', 'B6', 'B7', 'B10', 'B11']"
   ]
  },
  {
   "cell_type": "code",
   "execution_count": 3,
   "metadata": {},
   "outputs": [
    {
     "data": {
      "application/vnd.jupyter.widget-view+json": {
       "model_id": "8b7b91b49dd34e2dab01edf8df253659",
       "version_major": 2,
       "version_minor": 0
      },
      "text/plain": [
       "Map(center=[40, -100], controls=(WidgetControl(options=['position'], widget=HBox(children=(ToggleButton(value=…"
      ]
     },
     "metadata": {},
     "output_type": "display_data"
    }
   ],
   "source": [
    "Map = geemap.Map()\n",
    "Map"
   ]
  },
  {
   "cell_type": "code",
   "execution_count": 5,
   "metadata": {},
   "outputs": [],
   "source": [
    "def maskL8sr(image):\n",
    "    # Bits 3 and 5 are cloud shadow and cloud, respectively.\n",
    "    cloudShadowBitMask = 1 << 3\n",
    "    cloudsBitMask = 1 << 5\n",
    "    # Get the pixel QA band.\n",
    "    qa = image.select('pixel_qa')\n",
    "    # Both flags should be set to zero, indicating clear conditions.\n",
    "    mask = qa.bitwiseAnd(cloudShadowBitMask).eq(0).And(qa.bitwiseAnd(cloudsBitMask).eq(0))\n",
    "    # Return the masked image, scaled to TOA reflectance, without the QA bands.\n",
    "    return image.updateMask(mask).divide(10000).select(L8bands).copyProperties(image, [\"system:time_start\"])"
   ]
  },
  {
   "cell_type": "code",
   "execution_count": 7,
   "metadata": {},
   "outputs": [],
   "source": [
    "# Creating an add variable function for Landsat 8 index calculation.\n",
    "def compute_indices(image):\n",
    "    NDVI = image.expression('(B5-B4)/(B5+B4)', \n",
    "                            {'B4': image.select('B4'),\n",
    "                             'B5': image.select('B5')}).rename('ndvi')\n",
    "    MNDWI = image.expression('(B3-B6) / (B3+B6)',\n",
    "                             {'B3': image.select('B3'),\n",
    "                              'B6': image.select('B6')}).rename('mndwi')\n",
    "    EVI = image.expression('2.5 * ((B5 - B4)/(B5 +(6*B4)-(7.5*B2)+1))',\n",
    "                           {'B2': image.select('B2'),\n",
    "                            'B4': image.select('B4'),\n",
    "                            'B5': image.select('B5')}).rename('evi')\n",
    "    LSWI = image.expression('(B5-B6)/(B5+B6)', \n",
    "                            {'B5': image.select('B5'),\n",
    "                             'B6': image.select('B6')}).rename('lswi')\n",
    "    return image.addBands(NDVI).addBands(MNDWI).addBands(EVI).addBands(LSWI)"
   ]
  },
  {
   "cell_type": "code",
   "execution_count": 7,
   "metadata": {},
   "outputs": [
    {
     "data": {
      "application/vnd.jupyter.widget-view+json": {
       "model_id": "8b7b91b49dd34e2dab01edf8df253659",
       "version_major": 2,
       "version_minor": 0
      },
      "text/plain": [
       "Map(bottom=1826.0, center=[20.485800000000005, 106.49430000000001], controls=(WidgetControl(options=['position…"
      ]
     },
     "metadata": {},
     "output_type": "display_data"
    }
   ],
   "source": [
    "point = ee.Geometry.Point([106.4943, 20.4858])\n",
    "\n",
    "image = ee.ImageCollection('LANDSAT/LC08/C01/T1_SR') \\\n",
    "    .filterBounds(point) \\\n",
    "    .filterDate('2016-01-01', '2020-12-31') \\\n",
    "    .sort('CLOUD_COVER') \\\n",
    "    .first() \\\n",
    "    .select('B[1-7]')\n",
    "\n",
    "vis_params = {\n",
    "    'min': 0,\n",
    "    'max': 3000,\n",
    "    'bands': ['B5', 'B4', 'B3']\n",
    "}\n",
    "\n",
    "Map.centerObject(point, 8)\n",
    "Map.addLayer(image, vis_params, \"Landsat-8\")\n",
    "Map"
   ]
  },
  {
   "cell_type": "code",
   "execution_count": 4,
   "metadata": {},
   "outputs": [],
   "source": [
    "# ee.Date(image.get('system:time_start')).format('YYYY-MM-dd').getInfo()"
   ]
  },
  {
   "cell_type": "code",
   "execution_count": 5,
   "metadata": {},
   "outputs": [],
   "source": [
    "# image.get('CLOUD_COVER').getInfo()"
   ]
  },
  {
   "cell_type": "code",
   "execution_count": 11,
   "metadata": {},
   "outputs": [],
   "source": [
    "image2 = compute_indices(image)"
   ]
  },
  {
   "cell_type": "code",
   "execution_count": 3,
   "metadata": {},
   "outputs": [],
   "source": [
    "# ee.Date(image2.get('system:time_start')).format('YYYY-MM-dd').getInfo()"
   ]
  },
  {
   "cell_type": "code",
   "execution_count": 2,
   "metadata": {},
   "outputs": [],
   "source": [
    "# image2.get('CLOUD_COVER').getInfo()"
   ]
  },
  {
   "cell_type": "code",
   "execution_count": 1,
   "metadata": {},
   "outputs": [],
   "source": [
    "# image2.getInfo()"
   ]
  },
  {
   "cell_type": "code",
   "execution_count": 28,
   "metadata": {},
   "outputs": [],
   "source": [
    "image3 = image2.select('ndvi', 'mndwi', 'evi', 'lswi')"
   ]
  },
  {
   "cell_type": "code",
   "execution_count": 13,
   "metadata": {},
   "outputs": [],
   "source": [
    "# Add the boundary of Thai Binh province\n",
    "thaibinh_shp = 'D:/@MASTER THESIS/@Programming/@GGE/Thuy/Thai Binh/VungTB.shp'\n",
    "thaibinh = geemap.shp_to_ee(thaibinh_shp)"
   ]
  },
  {
   "cell_type": "code",
   "execution_count": 14,
   "metadata": {},
   "outputs": [
    {
     "data": {
      "application/vnd.jupyter.widget-view+json": {
       "model_id": "10133a8705c143ce9b97f31726e4b843",
       "version_major": 2,
       "version_minor": 0
      },
      "text/plain": [
       "Map(bottom=14851.0, center=[20.468675714429068, 106.53894403023824], controls=(WidgetControl(options=['positio…"
      ]
     },
     "metadata": {},
     "output_type": "display_data"
    }
   ],
   "source": [
    "# Show the boundary on map\n",
    "Map.addLayer(thaibinh, {},\"Tinh Thai Binh\")\n",
    "Map.centerObject(thaibinh, 10)\n",
    "Map"
   ]
  },
  {
   "cell_type": "code",
   "execution_count": 15,
   "metadata": {},
   "outputs": [],
   "source": [
    "# Add training markers from shape files\n",
    "agriculture_shp = 'D:/@MASTER THESIS/@Programming/@GGE/Thuy/Markers/agriculture_markers.shp'\n",
    "evergreen_shp = 'D:/@MASTER THESIS/@Programming/@GGE/Thuy/Markers/evergreen_markers.shp'\n",
    "mangrove_shp = 'D:/@MASTER THESIS/@Programming/@GGE/Thuy/Markers/mangrove_markers.shp'\n",
    "others_shp = 'D:/@MASTER THESIS/@Programming/@GGE/Thuy/Markers/other_markers.shp'\n",
    "residence_shp = 'D:/@MASTER THESIS/@Programming/@GGE/Thuy/Markers/residence_markers.shp'\n",
    "shrimp_shp = 'D:/@MASTER THESIS/@Programming/@GGE/Thuy/Markers/shrimp_markers.shp'\n",
    "water_shp = 'D:/@MASTER THESIS/@Programming/@GGE/Thuy/Markers/water_markers.shp'\n",
    "# Shape files to ee objects\n",
    "cl_agriculture = geemap.shp_to_ee(agriculture_shp)\n",
    "cl_evergreen = geemap.shp_to_ee(evergreen_shp)\n",
    "cl_mangrove = geemap.shp_to_ee(mangrove_shp)\n",
    "cl_others = geemap.shp_to_ee(others_shp)\n",
    "cl_residence = geemap.shp_to_ee(residence_shp)\n",
    "cl_shrimp = geemap.shp_to_ee(shrimp_shp)\n",
    "cl_water = geemap.shp_to_ee(water_shp)\n",
    "# Make markers collections\n",
    "classNames = cl_agriculture.merge(cl_evergreen).merge(cl_mangrove).merge(cl_others). \\\n",
    "                            merge(cl_residence).merge(cl_shrimp).merge(cl_water)\n",
    "# Show the markers on map\n",
    "Map.addLayer(classNames, {}, 'Markers')\n",
    "# Map"
   ]
  },
  {
   "cell_type": "code",
   "execution_count": 39,
   "metadata": {},
   "outputs": [],
   "source": [
    "L8sr = L8sr.median().clip(thaibinh)"
   ]
  },
  {
   "cell_type": "code",
   "execution_count": 36,
   "metadata": {},
   "outputs": [
    {
     "name": "stderr",
     "output_type": "stream",
     "text": [
      "IOPub data rate exceeded.\n",
      "The notebook server will temporarily stop sending output\n",
      "to the client in order to avoid crashing it.\n",
      "To change this limit, set the config variable\n",
      "`--NotebookApp.iopub_data_rate_limit`.\n",
      "\n",
      "Current values:\n",
      "NotebookApp.iopub_data_rate_limit=1000000.0 (bytes/sec)\n",
      "NotebookApp.rate_limit_window=3.0 (secs)\n",
      "\n"
     ]
    }
   ],
   "source": [
    "# # Compute multiple indices\n",
    "L8col = compute_indices(L8sr)\n",
    "# print(L8col)"
   ]
  },
  {
   "cell_type": "code",
   "execution_count": 37,
   "metadata": {
    "scrolled": true
   },
   "outputs": [
    {
     "data": {
      "text/plain": [
       "{'type': 'Image',\n",
       " 'bands': [{'id': 'B1',\n",
       "   'data_type': {'type': 'PixelType',\n",
       "    'precision': 'float',\n",
       "    'min': -3.2768001556396484,\n",
       "    'max': 3.276700019836426},\n",
       "   'crs': 'EPSG:4326',\n",
       "   'crs_transform': [1, 0, 0, 0, 1, 0]},\n",
       "  {'id': 'B2',\n",
       "   'data_type': {'type': 'PixelType',\n",
       "    'precision': 'float',\n",
       "    'min': -3.2768001556396484,\n",
       "    'max': 3.276700019836426},\n",
       "   'crs': 'EPSG:4326',\n",
       "   'crs_transform': [1, 0, 0, 0, 1, 0]},\n",
       "  {'id': 'B3',\n",
       "   'data_type': {'type': 'PixelType',\n",
       "    'precision': 'float',\n",
       "    'min': -3.2768001556396484,\n",
       "    'max': 3.276700019836426},\n",
       "   'crs': 'EPSG:4326',\n",
       "   'crs_transform': [1, 0, 0, 0, 1, 0]},\n",
       "  {'id': 'B4',\n",
       "   'data_type': {'type': 'PixelType',\n",
       "    'precision': 'float',\n",
       "    'min': -3.2768001556396484,\n",
       "    'max': 3.276700019836426},\n",
       "   'crs': 'EPSG:4326',\n",
       "   'crs_transform': [1, 0, 0, 0, 1, 0]},\n",
       "  {'id': 'B5',\n",
       "   'data_type': {'type': 'PixelType',\n",
       "    'precision': 'float',\n",
       "    'min': -3.2768001556396484,\n",
       "    'max': 3.276700019836426},\n",
       "   'crs': 'EPSG:4326',\n",
       "   'crs_transform': [1, 0, 0, 0, 1, 0]},\n",
       "  {'id': 'B6',\n",
       "   'data_type': {'type': 'PixelType',\n",
       "    'precision': 'float',\n",
       "    'min': -3.2768001556396484,\n",
       "    'max': 3.276700019836426},\n",
       "   'crs': 'EPSG:4326',\n",
       "   'crs_transform': [1, 0, 0, 0, 1, 0]},\n",
       "  {'id': 'B7',\n",
       "   'data_type': {'type': 'PixelType',\n",
       "    'precision': 'float',\n",
       "    'min': -3.2768001556396484,\n",
       "    'max': 3.276700019836426},\n",
       "   'crs': 'EPSG:4326',\n",
       "   'crs_transform': [1, 0, 0, 0, 1, 0]},\n",
       "  {'id': 'B10',\n",
       "   'data_type': {'type': 'PixelType',\n",
       "    'precision': 'float',\n",
       "    'min': -3.2768001556396484,\n",
       "    'max': 3.276700019836426},\n",
       "   'crs': 'EPSG:4326',\n",
       "   'crs_transform': [1, 0, 0, 0, 1, 0]},\n",
       "  {'id': 'B11',\n",
       "   'data_type': {'type': 'PixelType',\n",
       "    'precision': 'float',\n",
       "    'min': -3.2768001556396484,\n",
       "    'max': 3.276700019836426},\n",
       "   'crs': 'EPSG:4326',\n",
       "   'crs_transform': [1, 0, 0, 0, 1, 0]},\n",
       "  {'id': 'ndvi',\n",
       "   'data_type': {'type': 'PixelType', 'precision': 'float'},\n",
       "   'crs': 'EPSG:4326',\n",
       "   'crs_transform': [1, 0, 0, 0, 1, 0]},\n",
       "  {'id': 'mndwi',\n",
       "   'data_type': {'type': 'PixelType', 'precision': 'float'},\n",
       "   'crs': 'EPSG:4326',\n",
       "   'crs_transform': [1, 0, 0, 0, 1, 0]},\n",
       "  {'id': 'evi',\n",
       "   'data_type': {'type': 'PixelType', 'precision': 'double'},\n",
       "   'crs': 'EPSG:4326',\n",
       "   'crs_transform': [1, 0, 0, 0, 1, 0]},\n",
       "  {'id': 'lswi',\n",
       "   'data_type': {'type': 'PixelType', 'precision': 'float'},\n",
       "   'crs': 'EPSG:4326',\n",
       "   'crs_transform': [1, 0, 0, 0, 1, 0]}]}"
      ]
     },
     "execution_count": 37,
     "metadata": {},
     "output_type": "execute_result"
    }
   ],
   "source": [
    "# L8col.getInfo()"
   ]
  },
  {
   "cell_type": "code",
   "execution_count": 8,
   "metadata": {},
   "outputs": [
    {
     "data": {
      "application/vnd.jupyter.widget-view+json": {
       "model_id": "8b7b91b49dd34e2dab01edf8df253659",
       "version_major": 2,
       "version_minor": 0
      },
      "text/plain": [
       "Map(bottom=29232.0, center=[20.485800000000005, 106.49430000000001], controls=(WidgetControl(options=['positio…"
      ]
     },
     "metadata": {},
     "output_type": "display_data"
    }
   ],
   "source": [
    "# Set the vis\n",
    "thaibinh_vis = {\n",
    "    'bands': ['B4', 'B3', 'B2'], \n",
    "    'min': 0,\n",
    "    'max': 0.3\n",
    "    #'gamma': 1.5\n",
    "}\n",
    "\n",
    "# Display the results.\n",
    "Map.addLayer(L8sr, thaibinh_vis, 'Thai Banh LC8')\n",
    "Map"
   ]
  },
  {
   "cell_type": "code",
   "execution_count": 30,
   "metadata": {},
   "outputs": [],
   "source": [
    "# Set bands and label for classifier\n",
    "bands = ['ndvi', 'mndwi', 'evi', 'lswi']\n",
    "label = 'landcover'"
   ]
  },
  {
   "cell_type": "code",
   "execution_count": 32,
   "metadata": {},
   "outputs": [],
   "source": [
    "# classify training data by randomForest\n",
    "classifier = ee.Classifier.smileRandomForest(10).train(training, label, bands)"
   ]
  },
  {
   "cell_type": "code",
   "execution_count": 33,
   "metadata": {},
   "outputs": [],
   "source": [
    "# Run the classification\n",
    "classified = image3.select(bands).classify(classifier)"
   ]
  },
  {
   "cell_type": "code",
   "execution_count": 41,
   "metadata": {},
   "outputs": [
    {
     "data": {
      "application/vnd.jupyter.widget-view+json": {
       "model_id": "10133a8705c143ce9b97f31726e4b843",
       "version_major": 2,
       "version_minor": 0
      },
      "text/plain": [
       "Map(bottom=231791.0, center=[20.468675714429068, 106.53894403023824], controls=(WidgetControl(options=['positi…"
      ]
     },
     "metadata": {},
     "output_type": "display_data"
    }
   ],
   "source": [
    "# Display classification\n",
    "cl_vis_params = {\n",
    "    'min': 1, \n",
    "    'max': 7, \n",
    "    'palette': ['#98ff00','#0b4a8b','#ffc82d','#00ffff','#bf04c2','#ff0000','#008800']\n",
    "}\n",
    "\n",
    "legend_keys = ['Mangrove', 'Shrimp', 'Residence', 'Water','Agriculture','Other','Evergreen']\n",
    "legend_colors = ['#98ff00','#0b4a8b','#ffc82d','#00ffff','#bf04c2','#ff0000','#008800']\n",
    "\n",
    "Map.centerObject(thaibinh, 10)\n",
    "Map.addLayer(classified, cl_vis_params, 'classification')\n",
    "Map.add_legend(legend_keys=legend_keys, legend_colors=legend_colors, position='bottomright')\n",
    "Map"
   ]
  },
  {
   "cell_type": "code",
   "execution_count": null,
   "metadata": {},
   "outputs": [],
   "source": []
  },
  {
   "cell_type": "code",
   "execution_count": null,
   "metadata": {},
   "outputs": [],
   "source": []
  }
 ],
 "metadata": {
  "hide_input": false,
  "kernelspec": {
   "display_name": "Python 3",
   "language": "python",
   "name": "python3"
  },
  "language_info": {
   "codemirror_mode": {
    "name": "ipython",
    "version": 3
   },
   "file_extension": ".py",
   "mimetype": "text/x-python",
   "name": "python",
   "nbconvert_exporter": "python",
   "pygments_lexer": "ipython3",
   "version": "3.8.5"
  },
  "toc": {
   "base_numbering": 1,
   "nav_menu": {},
   "number_sections": true,
   "sideBar": true,
   "skip_h1_title": true,
   "title_cell": "Table of Contents",
   "title_sidebar": "Table of Contents",
   "toc_cell": false,
   "toc_position": {},
   "toc_section_display": true,
   "toc_window_display": true
  },
  "varInspector": {
   "cols": {
    "lenName": 16,
    "lenType": 16,
    "lenVar": 40
   },
   "kernels_config": {
    "python": {
     "delete_cmd_postfix": "",
     "delete_cmd_prefix": "del ",
     "library": "var_list.py",
     "varRefreshCmd": "print(var_dic_list())"
    },
    "r": {
     "delete_cmd_postfix": ") ",
     "delete_cmd_prefix": "rm(",
     "library": "var_list.r",
     "varRefreshCmd": "cat(var_dic_list()) "
    }
   },
   "types_to_exclude": [
    "module",
    "function",
    "builtin_function_or_method",
    "instance",
    "_Feature"
   ],
   "window_display": false
  }
 },
 "nbformat": 4,
 "nbformat_minor": 4
}
