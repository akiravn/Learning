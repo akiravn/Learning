{
 "cells": [
  {
   "cell_type": "code",
   "execution_count": 3,
   "metadata": {},
   "outputs": [],
   "source": [
    "import ee\n",
    "import geemap"
   ]
  },
  {
   "cell_type": "code",
   "execution_count": 4,
   "metadata": {},
   "outputs": [],
   "source": [
    "L8bands = ['B1','B2', 'B3', 'B4', 'B5', 'B6', 'B7', 'B10', 'B11']"
   ]
  },
  {
   "cell_type": "code",
   "execution_count": 5,
   "metadata": {},
   "outputs": [
    {
     "data": {
      "application/vnd.jupyter.widget-view+json": {
       "model_id": "10133a8705c143ce9b97f31726e4b843",
       "version_major": 2,
       "version_minor": 0
      },
      "text/plain": [
       "Map(center=[40, -100], controls=(WidgetControl(options=['position'], widget=HBox(children=(ToggleButton(value=…"
      ]
     },
     "metadata": {},
     "output_type": "display_data"
    }
   ],
   "source": [
    "Map = geemap.Map()\n",
    "Map"
   ]
  },
  {
   "cell_type": "code",
   "execution_count": 6,
   "metadata": {},
   "outputs": [],
   "source": [
    "def maskL8sr(image):\n",
    "    # Bits 3 and 5 are cloud shadow and cloud, respectively.\n",
    "    cloudShadowBitMask = 1 << 3\n",
    "    cloudsBitMask = 1 << 5\n",
    "    # Get the pixel QA band.\n",
    "    qa = image.select('pixel_qa')\n",
    "    # Both flags should be set to zero, indicating clear conditions.\n",
    "    mask = qa.bitwiseAnd(cloudShadowBitMask).eq(0).And(qa.bitwiseAnd(cloudsBitMask).eq(0))\n",
    "    # Return the masked image, scaled to TOA reflectance, without the QA bands.\n",
    "    return image.updateMask(mask).divide(10000).select(L8bands).copyProperties(image, [\"system:time_start\"])"
   ]
  },
  {
   "cell_type": "code",
   "execution_count": 7,
   "metadata": {},
   "outputs": [],
   "source": [
    "# Creating an add variable function for Landsat 8 index calculation.\n",
    "def compute_indices(image):\n",
    "    NDVI = image.expression('(B5-B4)/(B5+B4)', \n",
    "                            {'B4': image.select('B4'),\n",
    "                             'B5': image.select('B5')}).rename('ndvi')\n",
    "    MNDWI = image.expression('(B3-B6) / (B3+B6)',\n",
    "                             {'B3': image.select('B3'),\n",
    "                              'B6': image.select('B6')}).rename('mndwi')\n",
    "    EVI = image.expression('2.5 * ((B5 - B4)/(B5 +(6*B4)-(7.5*B2)+1))',\n",
    "                           {'B2': image.select('B2'),\n",
    "                            'B4': image.select('B4'),\n",
    "                            'B5': image.select('B5')}).rename('evi')\n",
    "    LSWI = image.expression('(B5-B6)/(B5+B6)', \n",
    "                            {'B5': image.select('B5'),\n",
    "                             'B6': image.select('B6')}).rename('lswi')\n",
    "    return image.addBands(NDVI).addBands(MNDWI).addBands(EVI).addBands(LSWI)"
   ]
  },
  {
   "cell_type": "code",
   "execution_count": 38,
   "metadata": {},
   "outputs": [],
   "source": [
    "# Map the function over one year of data.\n",
    "L8sr = ee.ImageCollection('LANDSAT/LC08/C01/T1_SR') \\\n",
    "            .filterDate('2019-01-01', '2019-12-31') \\\n",
    "            .filter(ee.Filter.lt(\"CLOUD_COVER\", 30)) \\\n",
    "            .map(maskL8sr)"
   ]
  },
  {
   "cell_type": "code",
   "execution_count": 8,
   "metadata": {},
   "outputs": [
    {
     "data": {
      "application/vnd.jupyter.widget-view+json": {
       "model_id": "10133a8705c143ce9b97f31726e4b843",
       "version_major": 2,
       "version_minor": 0
      },
      "text/plain": [
       "Map(bottom=1826.0, center=[20.485800000000005, 106.49430000000001], controls=(WidgetControl(options=['position…"
      ]
     },
     "metadata": {},
     "output_type": "display_data"
    }
   ],
   "source": [
    "point = ee.Geometry.Point([106.4943, 20.4858])\n",
    "\n",
    "image = ee.ImageCollection('LANDSAT/LC08/C01/T1_SR') \\\n",
    "    .filterBounds(point) \\\n",
    "    .filterDate('2016-01-01', '2020-12-31') \\\n",
    "    .sort('CLOUD_COVER') \\\n",
    "    .first() \\\n",
    "    .select('B[1-7]')\n",
    "\n",
    "vis_params = {\n",
    "    'min': 0,\n",
    "    'max': 3000,\n",
    "    'bands': ['B5', 'B4', 'B3']\n",
    "}\n",
    "\n",
    "Map.centerObject(point, 8)\n",
    "Map.addLayer(image, vis_params, \"Landsat-8\")\n",
    "Map"
   ]
  },
  {
   "cell_type": "code",
   "execution_count": 9,
   "metadata": {},
   "outputs": [
    {
     "data": {
      "text/plain": [
       "'2019-11-10'"
      ]
     },
     "execution_count": 9,
     "metadata": {},
     "output_type": "execute_result"
    }
   ],
   "source": [
    "ee.Date(image.get('system:time_start')).format('YYYY-MM-dd').getInfo()"
   ]
  },
  {
   "cell_type": "code",
   "execution_count": 10,
   "metadata": {},
   "outputs": [
    {
     "data": {
      "text/plain": [
       "0.93"
      ]
     },
     "execution_count": 10,
     "metadata": {},
     "output_type": "execute_result"
    }
   ],
   "source": [
    "image.get('CLOUD_COVER').getInfo()"
   ]
  },
  {
   "cell_type": "code",
   "execution_count": 11,
   "metadata": {},
   "outputs": [],
   "source": [
    "image2 = compute_indices(image)"
   ]
  },
  {
   "cell_type": "code",
   "execution_count": 24,
   "metadata": {},
   "outputs": [
    {
     "data": {
      "text/plain": [
       "'2019-11-10'"
      ]
     },
     "execution_count": 24,
     "metadata": {},
     "output_type": "execute_result"
    }
   ],
   "source": [
    "ee.Date(image2.get('system:time_start')).format('YYYY-MM-dd').getInfo()"
   ]
  },
  {
   "cell_type": "code",
   "execution_count": 25,
   "metadata": {},
   "outputs": [
    {
     "data": {
      "text/plain": [
       "0.93"
      ]
     },
     "execution_count": 25,
     "metadata": {},
     "output_type": "execute_result"
    }
   ],
   "source": [
    "image2.get('CLOUD_COVER').getInfo()"
   ]
  },
  {
   "cell_type": "code",
   "execution_count": 26,
   "metadata": {},
   "outputs": [
    {
     "data": {
      "text/plain": [
       "{'type': 'Image',\n",
       " 'bands': [{'id': 'B1',\n",
       "   'data_type': {'type': 'PixelType',\n",
       "    'precision': 'int',\n",
       "    'min': -32768,\n",
       "    'max': 32767},\n",
       "   'dimensions': [7561, 7721],\n",
       "   'crs': 'EPSG:32648',\n",
       "   'crs_transform': [30, 0, 566385, 0, -30, 2353215]},\n",
       "  {'id': 'B2',\n",
       "   'data_type': {'type': 'PixelType',\n",
       "    'precision': 'int',\n",
       "    'min': -32768,\n",
       "    'max': 32767},\n",
       "   'dimensions': [7561, 7721],\n",
       "   'crs': 'EPSG:32648',\n",
       "   'crs_transform': [30, 0, 566385, 0, -30, 2353215]},\n",
       "  {'id': 'B3',\n",
       "   'data_type': {'type': 'PixelType',\n",
       "    'precision': 'int',\n",
       "    'min': -32768,\n",
       "    'max': 32767},\n",
       "   'dimensions': [7561, 7721],\n",
       "   'crs': 'EPSG:32648',\n",
       "   'crs_transform': [30, 0, 566385, 0, -30, 2353215]},\n",
       "  {'id': 'B4',\n",
       "   'data_type': {'type': 'PixelType',\n",
       "    'precision': 'int',\n",
       "    'min': -32768,\n",
       "    'max': 32767},\n",
       "   'dimensions': [7561, 7721],\n",
       "   'crs': 'EPSG:32648',\n",
       "   'crs_transform': [30, 0, 566385, 0, -30, 2353215]},\n",
       "  {'id': 'B5',\n",
       "   'data_type': {'type': 'PixelType',\n",
       "    'precision': 'int',\n",
       "    'min': -32768,\n",
       "    'max': 32767},\n",
       "   'dimensions': [7561, 7721],\n",
       "   'crs': 'EPSG:32648',\n",
       "   'crs_transform': [30, 0, 566385, 0, -30, 2353215]},\n",
       "  {'id': 'B6',\n",
       "   'data_type': {'type': 'PixelType',\n",
       "    'precision': 'int',\n",
       "    'min': -32768,\n",
       "    'max': 32767},\n",
       "   'dimensions': [7561, 7721],\n",
       "   'crs': 'EPSG:32648',\n",
       "   'crs_transform': [30, 0, 566385, 0, -30, 2353215]},\n",
       "  {'id': 'B7',\n",
       "   'data_type': {'type': 'PixelType',\n",
       "    'precision': 'int',\n",
       "    'min': -32768,\n",
       "    'max': 32767},\n",
       "   'dimensions': [7561, 7721],\n",
       "   'crs': 'EPSG:32648',\n",
       "   'crs_transform': [30, 0, 566385, 0, -30, 2353215]},\n",
       "  {'id': 'ndvi',\n",
       "   'data_type': {'type': 'PixelType', 'precision': 'float'},\n",
       "   'dimensions': [7561, 7721],\n",
       "   'crs': 'EPSG:32648',\n",
       "   'crs_transform': [30, 0, 566385, 0, -30, 2353215]},\n",
       "  {'id': 'mndwi',\n",
       "   'data_type': {'type': 'PixelType', 'precision': 'float'},\n",
       "   'dimensions': [7561, 7721],\n",
       "   'crs': 'EPSG:32648',\n",
       "   'crs_transform': [30, 0, 566385, 0, -30, 2353215]},\n",
       "  {'id': 'evi',\n",
       "   'data_type': {'type': 'PixelType', 'precision': 'double'},\n",
       "   'dimensions': [7561, 7721],\n",
       "   'crs': 'EPSG:32648',\n",
       "   'crs_transform': [30, 0, 566385, 0, -30, 2353215]},\n",
       "  {'id': 'lswi',\n",
       "   'data_type': {'type': 'PixelType', 'precision': 'float'},\n",
       "   'dimensions': [7561, 7721],\n",
       "   'crs': 'EPSG:32648',\n",
       "   'crs_transform': [30, 0, 566385, 0, -30, 2353215]}],\n",
       " 'id': 'LANDSAT/LC08/C01/T1_SR/LC08_126046_20191110',\n",
       " 'version': 1574074338657664,\n",
       " 'properties': {'IMAGE_QUALITY_TIRS': 9,\n",
       "  'CLOUD_COVER': 0.93,\n",
       "  'EARTH_SUN_DISTANCE': 0.990391,\n",
       "  'LANDSAT_ID': 'LC08_L1TP_126046_20191110_20191115_01_T1',\n",
       "  'system:footprint': {'type': 'LinearRing',\n",
       "   'coordinates': [[106.05185714809214, 21.270889481450826],\n",
       "    [106.04256374460725, 21.27269179443282],\n",
       "    [105.84515411401189, 20.406939485541844],\n",
       "    [105.65024445431153, 19.541351604217297],\n",
       "    [105.65023810000434, 19.53975050889417],\n",
       "    [105.65846443084614, 19.53804811444285],\n",
       "    [105.85755603802176, 19.497362450692957],\n",
       "    [107.28982879094433, 19.197703216763728],\n",
       "    [107.37479526793342, 19.17954696555721],\n",
       "    [107.37651352495429, 19.179524648808833],\n",
       "    [107.44541512033057, 19.471446654527778],\n",
       "    [107.51736081500742, 19.775210023753026],\n",
       "    [107.57088447056425, 20.00054178168065],\n",
       "    [107.65392794470797, 20.349276441933235],\n",
       "    [107.70135216819229, 20.54775014195982],\n",
       "    [107.73460202777656, 20.68671498053655],\n",
       "    [107.77538091725057, 20.85681525264087],\n",
       "    [107.78895795630021, 20.91341244935336],\n",
       "    [107.78838655523512, 20.91396836684178],\n",
       "    [106.99597641894715, 21.079217235165842],\n",
       "    [106.05185714809214, 21.270889481450826]]},\n",
       "  'CLOUD_COVER_LAND': 0.58,\n",
       "  'GEOMETRIC_RMSE_MODEL': 7.808,\n",
       "  'SR_APP_VERSION': 'LaSRC_1.3.0',\n",
       "  'SATELLITE': 'LANDSAT_8',\n",
       "  'SOLAR_AZIMUTH_ANGLE': 151.146317,\n",
       "  'IMAGE_QUALITY_OLI': 9,\n",
       "  'system:time_end': 1573355880167,\n",
       "  'WRS_PATH': 126,\n",
       "  'system:time_start': 1573355880167,\n",
       "  'SENSING_TIME': '2019-11-10T03:18:00.1674620Z',\n",
       "  'ESPA_VERSION': '2_23_0_1b',\n",
       "  'SOLAR_ZENITH_ANGLE': 41.996647,\n",
       "  'WRS_ROW': 46,\n",
       "  'GEOMETRIC_RMSE_MODEL_Y': 5.459,\n",
       "  'LEVEL1_PRODUCTION_DATE': 1573820704000,\n",
       "  'GEOMETRIC_RMSE_MODEL_X': 5.582,\n",
       "  'system:asset_size': 470319251,\n",
       "  'PIXEL_QA_VERSION': 'generate_pixel_qa_1.6.0',\n",
       "  'system:index': 'LC08_126046_20191110'}}"
      ]
     },
     "execution_count": 26,
     "metadata": {},
     "output_type": "execute_result"
    }
   ],
   "source": [
    "image2.getInfo()"
   ]
  },
  {
   "cell_type": "code",
   "execution_count": 28,
   "metadata": {},
   "outputs": [],
   "source": [
    "image3 = image2.select('ndvi', 'mndwi', 'evi', 'lswi')"
   ]
  },
  {
   "cell_type": "code",
   "execution_count": 29,
   "metadata": {},
   "outputs": [
    {
     "data": {
      "text/plain": [
       "{'type': 'Image',\n",
       " 'bands': [{'id': 'ndvi',\n",
       "   'data_type': {'type': 'PixelType', 'precision': 'float'},\n",
       "   'dimensions': [7561, 7721],\n",
       "   'crs': 'EPSG:32648',\n",
       "   'crs_transform': [30, 0, 566385, 0, -30, 2353215]},\n",
       "  {'id': 'mndwi',\n",
       "   'data_type': {'type': 'PixelType', 'precision': 'float'},\n",
       "   'dimensions': [7561, 7721],\n",
       "   'crs': 'EPSG:32648',\n",
       "   'crs_transform': [30, 0, 566385, 0, -30, 2353215]},\n",
       "  {'id': 'evi',\n",
       "   'data_type': {'type': 'PixelType', 'precision': 'double'},\n",
       "   'dimensions': [7561, 7721],\n",
       "   'crs': 'EPSG:32648',\n",
       "   'crs_transform': [30, 0, 566385, 0, -30, 2353215]},\n",
       "  {'id': 'lswi',\n",
       "   'data_type': {'type': 'PixelType', 'precision': 'float'},\n",
       "   'dimensions': [7561, 7721],\n",
       "   'crs': 'EPSG:32648',\n",
       "   'crs_transform': [30, 0, 566385, 0, -30, 2353215]}],\n",
       " 'id': 'LANDSAT/LC08/C01/T1_SR/LC08_126046_20191110',\n",
       " 'version': 1574074338657664,\n",
       " 'properties': {'IMAGE_QUALITY_TIRS': 9,\n",
       "  'CLOUD_COVER': 0.93,\n",
       "  'EARTH_SUN_DISTANCE': 0.990391,\n",
       "  'LANDSAT_ID': 'LC08_L1TP_126046_20191110_20191115_01_T1',\n",
       "  'system:footprint': {'type': 'LinearRing',\n",
       "   'coordinates': [[106.05185714809214, 21.270889481450826],\n",
       "    [106.04256374460725, 21.27269179443282],\n",
       "    [105.84515411401189, 20.406939485541844],\n",
       "    [105.65024445431153, 19.541351604217297],\n",
       "    [105.65023810000434, 19.53975050889417],\n",
       "    [105.65846443084614, 19.53804811444285],\n",
       "    [105.85755603802176, 19.497362450692957],\n",
       "    [107.28982879094433, 19.197703216763728],\n",
       "    [107.37479526793342, 19.17954696555721],\n",
       "    [107.37651352495429, 19.179524648808833],\n",
       "    [107.44541512033057, 19.471446654527778],\n",
       "    [107.51736081500742, 19.775210023753026],\n",
       "    [107.57088447056425, 20.00054178168065],\n",
       "    [107.65392794470797, 20.349276441933235],\n",
       "    [107.70135216819229, 20.54775014195982],\n",
       "    [107.73460202777656, 20.68671498053655],\n",
       "    [107.77538091725057, 20.85681525264087],\n",
       "    [107.78895795630021, 20.91341244935336],\n",
       "    [107.78838655523512, 20.91396836684178],\n",
       "    [106.99597641894715, 21.079217235165842],\n",
       "    [106.05185714809214, 21.270889481450826]]},\n",
       "  'CLOUD_COVER_LAND': 0.58,\n",
       "  'GEOMETRIC_RMSE_MODEL': 7.808,\n",
       "  'SR_APP_VERSION': 'LaSRC_1.3.0',\n",
       "  'SATELLITE': 'LANDSAT_8',\n",
       "  'SOLAR_AZIMUTH_ANGLE': 151.146317,\n",
       "  'IMAGE_QUALITY_OLI': 9,\n",
       "  'system:time_end': 1573355880167,\n",
       "  'WRS_PATH': 126,\n",
       "  'system:time_start': 1573355880167,\n",
       "  'SENSING_TIME': '2019-11-10T03:18:00.1674620Z',\n",
       "  'ESPA_VERSION': '2_23_0_1b',\n",
       "  'SOLAR_ZENITH_ANGLE': 41.996647,\n",
       "  'WRS_ROW': 46,\n",
       "  'GEOMETRIC_RMSE_MODEL_Y': 5.459,\n",
       "  'LEVEL1_PRODUCTION_DATE': 1573820704000,\n",
       "  'GEOMETRIC_RMSE_MODEL_X': 5.582,\n",
       "  'system:asset_size': 470319251,\n",
       "  'PIXEL_QA_VERSION': 'generate_pixel_qa_1.6.0',\n",
       "  'system:index': 'LC08_126046_20191110'}}"
      ]
     },
     "execution_count": 29,
     "metadata": {},
     "output_type": "execute_result"
    }
   ],
   "source": [
    "image3.getInfo()"
   ]
  },
  {
   "cell_type": "code",
   "execution_count": 13,
   "metadata": {},
   "outputs": [],
   "source": [
    "# Add the boundary of Thai Binh province\n",
    "thaibinh_shp = 'D:/@MASTER THESIS/@Programming/@GGE/Thuy/Thai Binh/VungTB.shp'\n",
    "thaibinh = geemap.shp_to_ee(thaibinh_shp)"
   ]
  },
  {
   "cell_type": "code",
   "execution_count": 14,
   "metadata": {},
   "outputs": [
    {
     "data": {
      "application/vnd.jupyter.widget-view+json": {
       "model_id": "10133a8705c143ce9b97f31726e4b843",
       "version_major": 2,
       "version_minor": 0
      },
      "text/plain": [
       "Map(bottom=14851.0, center=[20.468675714429068, 106.53894403023824], controls=(WidgetControl(options=['positio…"
      ]
     },
     "metadata": {},
     "output_type": "display_data"
    }
   ],
   "source": [
    "# Show the boundary on map\n",
    "Map.addLayer(thaibinh, {},\"Tinh Thai Binh\")\n",
    "Map.centerObject(thaibinh, 10)\n",
    "Map"
   ]
  },
  {
   "cell_type": "code",
   "execution_count": 15,
   "metadata": {},
   "outputs": [],
   "source": [
    "# Add training markers from shape files\n",
    "agriculture_shp = 'D:/@MASTER THESIS/@Programming/@GGE/Thuy/Markers/agriculture_markers.shp'\n",
    "evergreen_shp = 'D:/@MASTER THESIS/@Programming/@GGE/Thuy/Markers/evergreen_markers.shp'\n",
    "mangrove_shp = 'D:/@MASTER THESIS/@Programming/@GGE/Thuy/Markers/mangrove_markers.shp'\n",
    "others_shp = 'D:/@MASTER THESIS/@Programming/@GGE/Thuy/Markers/other_markers.shp'\n",
    "residence_shp = 'D:/@MASTER THESIS/@Programming/@GGE/Thuy/Markers/residence_markers.shp'\n",
    "shrimp_shp = 'D:/@MASTER THESIS/@Programming/@GGE/Thuy/Markers/shrimp_markers.shp'\n",
    "water_shp = 'D:/@MASTER THESIS/@Programming/@GGE/Thuy/Markers/water_markers.shp'\n",
    "# Shape files to ee objects\n",
    "cl_agriculture = geemap.shp_to_ee(agriculture_shp)\n",
    "cl_evergreen = geemap.shp_to_ee(evergreen_shp)\n",
    "cl_mangrove = geemap.shp_to_ee(mangrove_shp)\n",
    "cl_others = geemap.shp_to_ee(others_shp)\n",
    "cl_residence = geemap.shp_to_ee(residence_shp)\n",
    "cl_shrimp = geemap.shp_to_ee(shrimp_shp)\n",
    "cl_water = geemap.shp_to_ee(water_shp)\n",
    "# Make markers collections\n",
    "classNames = cl_agriculture.merge(cl_evergreen).merge(cl_mangrove).merge(cl_others). \\\n",
    "                            merge(cl_residence).merge(cl_shrimp).merge(cl_water)\n",
    "# Show the markers on map\n",
    "Map.addLayer(classNames, {}, 'Markers')\n",
    "# Map"
   ]
  },
  {
   "cell_type": "code",
   "execution_count": 39,
   "metadata": {},
   "outputs": [],
   "source": [
    "L8sr = L8sr.median().clip(thaibinh)"
   ]
  },
  {
   "cell_type": "code",
   "execution_count": 36,
   "metadata": {},
   "outputs": [
    {
     "name": "stderr",
     "output_type": "stream",
     "text": [
      "IOPub data rate exceeded.\n",
      "The notebook server will temporarily stop sending output\n",
      "to the client in order to avoid crashing it.\n",
      "To change this limit, set the config variable\n",
      "`--NotebookApp.iopub_data_rate_limit`.\n",
      "\n",
      "Current values:\n",
      "NotebookApp.iopub_data_rate_limit=1000000.0 (bytes/sec)\n",
      "NotebookApp.rate_limit_window=3.0 (secs)\n",
      "\n"
     ]
    }
   ],
   "source": [
    "# # Compute multiple indices\n",
    "L8col = compute_indices(L8sr)\n",
    "# print(L8col)"
   ]
  },
  {
   "cell_type": "code",
   "execution_count": 37,
   "metadata": {},
   "outputs": [
    {
     "data": {
      "text/plain": [
       "{'type': 'Image',\n",
       " 'bands': [{'id': 'B1',\n",
       "   'data_type': {'type': 'PixelType',\n",
       "    'precision': 'float',\n",
       "    'min': -3.2768001556396484,\n",
       "    'max': 3.276700019836426},\n",
       "   'crs': 'EPSG:4326',\n",
       "   'crs_transform': [1, 0, 0, 0, 1, 0]},\n",
       "  {'id': 'B2',\n",
       "   'data_type': {'type': 'PixelType',\n",
       "    'precision': 'float',\n",
       "    'min': -3.2768001556396484,\n",
       "    'max': 3.276700019836426},\n",
       "   'crs': 'EPSG:4326',\n",
       "   'crs_transform': [1, 0, 0, 0, 1, 0]},\n",
       "  {'id': 'B3',\n",
       "   'data_type': {'type': 'PixelType',\n",
       "    'precision': 'float',\n",
       "    'min': -3.2768001556396484,\n",
       "    'max': 3.276700019836426},\n",
       "   'crs': 'EPSG:4326',\n",
       "   'crs_transform': [1, 0, 0, 0, 1, 0]},\n",
       "  {'id': 'B4',\n",
       "   'data_type': {'type': 'PixelType',\n",
       "    'precision': 'float',\n",
       "    'min': -3.2768001556396484,\n",
       "    'max': 3.276700019836426},\n",
       "   'crs': 'EPSG:4326',\n",
       "   'crs_transform': [1, 0, 0, 0, 1, 0]},\n",
       "  {'id': 'B5',\n",
       "   'data_type': {'type': 'PixelType',\n",
       "    'precision': 'float',\n",
       "    'min': -3.2768001556396484,\n",
       "    'max': 3.276700019836426},\n",
       "   'crs': 'EPSG:4326',\n",
       "   'crs_transform': [1, 0, 0, 0, 1, 0]},\n",
       "  {'id': 'B6',\n",
       "   'data_type': {'type': 'PixelType',\n",
       "    'precision': 'float',\n",
       "    'min': -3.2768001556396484,\n",
       "    'max': 3.276700019836426},\n",
       "   'crs': 'EPSG:4326',\n",
       "   'crs_transform': [1, 0, 0, 0, 1, 0]},\n",
       "  {'id': 'B7',\n",
       "   'data_type': {'type': 'PixelType',\n",
       "    'precision': 'float',\n",
       "    'min': -3.2768001556396484,\n",
       "    'max': 3.276700019836426},\n",
       "   'crs': 'EPSG:4326',\n",
       "   'crs_transform': [1, 0, 0, 0, 1, 0]},\n",
       "  {'id': 'B10',\n",
       "   'data_type': {'type': 'PixelType',\n",
       "    'precision': 'float',\n",
       "    'min': -3.2768001556396484,\n",
       "    'max': 3.276700019836426},\n",
       "   'crs': 'EPSG:4326',\n",
       "   'crs_transform': [1, 0, 0, 0, 1, 0]},\n",
       "  {'id': 'B11',\n",
       "   'data_type': {'type': 'PixelType',\n",
       "    'precision': 'float',\n",
       "    'min': -3.2768001556396484,\n",
       "    'max': 3.276700019836426},\n",
       "   'crs': 'EPSG:4326',\n",
       "   'crs_transform': [1, 0, 0, 0, 1, 0]},\n",
       "  {'id': 'ndvi',\n",
       "   'data_type': {'type': 'PixelType', 'precision': 'float'},\n",
       "   'crs': 'EPSG:4326',\n",
       "   'crs_transform': [1, 0, 0, 0, 1, 0]},\n",
       "  {'id': 'mndwi',\n",
       "   'data_type': {'type': 'PixelType', 'precision': 'float'},\n",
       "   'crs': 'EPSG:4326',\n",
       "   'crs_transform': [1, 0, 0, 0, 1, 0]},\n",
       "  {'id': 'evi',\n",
       "   'data_type': {'type': 'PixelType', 'precision': 'double'},\n",
       "   'crs': 'EPSG:4326',\n",
       "   'crs_transform': [1, 0, 0, 0, 1, 0]},\n",
       "  {'id': 'lswi',\n",
       "   'data_type': {'type': 'PixelType', 'precision': 'float'},\n",
       "   'crs': 'EPSG:4326',\n",
       "   'crs_transform': [1, 0, 0, 0, 1, 0]}]}"
      ]
     },
     "execution_count": 37,
     "metadata": {},
     "output_type": "execute_result"
    }
   ],
   "source": [
    "# L8col.getInfo()"
   ]
  },
  {
   "cell_type": "code",
   "execution_count": 40,
   "metadata": {},
   "outputs": [
    {
     "data": {
      "application/vnd.jupyter.widget-view+json": {
       "model_id": "10133a8705c143ce9b97f31726e4b843",
       "version_major": 2,
       "version_minor": 0
      },
      "text/plain": [
       "Map(bottom=231791.0, center=[20.573653323563335, 106.4894485473633], controls=(WidgetControl(options=['positio…"
      ]
     },
     "metadata": {},
     "output_type": "display_data"
    }
   ],
   "source": [
    "# Set the vis\n",
    "thaibinh_vis = {\n",
    "    'bands': ['B4', 'B3', 'B2'], \n",
    "    'min': 0,\n",
    "    'max': 0.3\n",
    "    #'gamma': 1.5\n",
    "}\n",
    "\n",
    "# Display the results.\n",
    "Map.addLayer(L8sr, thaibinh_vis, 'Thai Banh LC8')\n",
    "Map"
   ]
  },
  {
   "cell_type": "code",
   "execution_count": 30,
   "metadata": {},
   "outputs": [],
   "source": [
    "# Set bands and label for classifier\n",
    "bands = ['ndvi', 'mndwi', 'evi', 'lswi']\n",
    "label = 'landcover'"
   ]
  },
  {
   "cell_type": "code",
   "execution_count": 31,
   "metadata": {},
   "outputs": [],
   "source": [
    "training = image3.select(bands).sampleRegions(**{\n",
    "    'collection': classNames,\n",
    "    'properties': ['landcover'],\n",
    "    'scale': 30\n",
    "})"
   ]
  },
  {
   "cell_type": "code",
   "execution_count": 32,
   "metadata": {},
   "outputs": [],
   "source": [
    "# classify training data by randomForest\n",
    "classifier = ee.Classifier.smileRandomForest(10).train(training, label, bands)"
   ]
  },
  {
   "cell_type": "code",
   "execution_count": 33,
   "metadata": {},
   "outputs": [],
   "source": [
    "# Run the classification\n",
    "classified = image3.select(bands).classify(classifier)"
   ]
  },
  {
   "cell_type": "code",
   "execution_count": 41,
   "metadata": {},
   "outputs": [
    {
     "data": {
      "application/vnd.jupyter.widget-view+json": {
       "model_id": "10133a8705c143ce9b97f31726e4b843",
       "version_major": 2,
       "version_minor": 0
      },
      "text/plain": [
       "Map(bottom=231791.0, center=[20.468675714429068, 106.53894403023824], controls=(WidgetControl(options=['positi…"
      ]
     },
     "metadata": {},
     "output_type": "display_data"
    }
   ],
   "source": [
    "# Display classification\n",
    "cl_vis_params = {\n",
    "    'min': 1, \n",
    "    'max': 7, \n",
    "    'palette': ['#98ff00','#0b4a8b','#ffc82d','#00ffff','#bf04c2','#ff0000','#008800']\n",
    "}\n",
    "\n",
    "legend_keys = ['Mangrove', 'Shrimp', 'Residence', 'Water','Agriculture','Other','Evergreen']\n",
    "legend_colors = ['#98ff00','#0b4a8b','#ffc82d','#00ffff','#bf04c2','#ff0000','#008800']\n",
    "\n",
    "Map.centerObject(thaibinh, 10)\n",
    "Map.addLayer(classified, cl_vis_params, 'classification')\n",
    "Map.add_legend(legend_keys=legend_keys, legend_colors=legend_colors, position='bottomright')\n",
    "Map"
   ]
  },
  {
   "cell_type": "code",
   "execution_count": null,
   "metadata": {},
   "outputs": [],
   "source": []
  },
  {
   "cell_type": "code",
   "execution_count": null,
   "metadata": {},
   "outputs": [],
   "source": []
  }
 ],
 "metadata": {
  "hide_input": false,
  "kernelspec": {
   "display_name": "Python 3",
   "language": "python",
   "name": "python3"
  },
  "language_info": {
   "codemirror_mode": {
    "name": "ipython",
    "version": 3
   },
   "file_extension": ".py",
   "mimetype": "text/x-python",
   "name": "python",
   "nbconvert_exporter": "python",
   "pygments_lexer": "ipython3",
   "version": "3.8.5"
  },
  "toc": {
   "base_numbering": 1,
   "nav_menu": {},
   "number_sections": true,
   "sideBar": true,
   "skip_h1_title": true,
   "title_cell": "Table of Contents",
   "title_sidebar": "Table of Contents",
   "toc_cell": false,
   "toc_position": {},
   "toc_section_display": true,
   "toc_window_display": true
  },
  "varInspector": {
   "cols": {
    "lenName": 16,
    "lenType": 16,
    "lenVar": 40
   },
   "kernels_config": {
    "python": {
     "delete_cmd_postfix": "",
     "delete_cmd_prefix": "del ",
     "library": "var_list.py",
     "varRefreshCmd": "print(var_dic_list())"
    },
    "r": {
     "delete_cmd_postfix": ") ",
     "delete_cmd_prefix": "rm(",
     "library": "var_list.r",
     "varRefreshCmd": "cat(var_dic_list()) "
    }
   },
   "types_to_exclude": [
    "module",
    "function",
    "builtin_function_or_method",
    "instance",
    "_Feature"
   ],
   "window_display": false
  }
 },
 "nbformat": 4,
 "nbformat_minor": 4
}
